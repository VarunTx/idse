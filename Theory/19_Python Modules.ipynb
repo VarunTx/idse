{
 "cells": [
  {
   "cell_type": "markdown",
   "id": "eb270d7c",
   "metadata": {},
   "source": [
    "# Python Modules\n",
    "\n",
    "Consider a module to be the same as a code library.\n",
    "\n",
    "A file containing a set of functions you want to include in your application.\n",
    "\n",
    "To create a module just save the code you want in a file with the file extension .py"
   ]
  },
  {
   "cell_type": "code",
   "execution_count": null,
   "id": "d555fc16",
   "metadata": {},
   "outputs": [],
   "source": [
    "#### Example\n",
    "# Save this code in a file named mymodule.py (in the same directory)\n",
    "def greeting(name):        \n",
    "    print(\"Hello, \" + name)"
   ]
  },
  {
   "cell_type": "code",
   "execution_count": 1,
   "id": "a65f9aa9",
   "metadata": {},
   "outputs": [
    {
     "name": "stdout",
     "output_type": "stream",
     "text": [
      "Hello, Ram\n"
     ]
    }
   ],
   "source": [
    "# Now we can use the module we just created, by using the import statement:\n",
    "\n",
    "# Example\n",
    "# Import the module named mymodule, and call the greeting function:\n",
    "\n",
    "# If you are using a different directory for mymodule.py, relative/absolute path should be used\n",
    "\n",
    "import mymodule\n",
    "\n",
    "mymodule.greeting(\"Ram\")\n",
    "\n",
    "# Note: When using a function from a module, use the syntax: module_name.function_name."
   ]
  },
  {
   "cell_type": "code",
   "execution_count": null,
   "id": "0705111a",
   "metadata": {},
   "outputs": [],
   "source": [
    "# Variables in Module\n",
    "# The module can contain functions, as already described, \n",
    "# but also variables of all types (arrays, dictionaries, objects etc):\n",
    "\n",
    "# Example\n",
    "# Save this code in the file mymodule.py\n",
    "\n",
    "person1 = {\n",
    "  \"name\": \"John\",\n",
    "  \"age\": 36,\n",
    "  \"country\": \"Norway\"\n",
    "}"
   ]
  },
  {
   "cell_type": "code",
   "execution_count": 2,
   "id": "48d9e151",
   "metadata": {},
   "outputs": [
    {
     "name": "stdout",
     "output_type": "stream",
     "text": [
      "36\n"
     ]
    }
   ],
   "source": [
    "# Example\n",
    "# Import the module named mymodule, and access the person1 dictionary:\n",
    "\n",
    "import mymodule\n",
    "\n",
    "a = mymodule.person1[\"age\"]\n",
    "print(a)"
   ]
  },
  {
   "cell_type": "code",
   "execution_count": 3,
   "id": "e0b4eb29",
   "metadata": {},
   "outputs": [
    {
     "name": "stdout",
     "output_type": "stream",
     "text": [
      "36\n"
     ]
    }
   ],
   "source": [
    "# Re-naming a Module\n",
    "# You can create an alias when you import a module, by using the as keyword:\n",
    "\n",
    "# Example\n",
    "# Create an alias for mymodule called mx:\n",
    "\n",
    "import mymodule as mx\n",
    "\n",
    "a = mx.person1[\"age\"]\n",
    "print(a)"
   ]
  },
  {
   "cell_type": "code",
   "execution_count": 4,
   "id": "8074ffe9",
   "metadata": {},
   "outputs": [
    {
     "name": "stdout",
     "output_type": "stream",
     "text": [
      "Windows\n"
     ]
    }
   ],
   "source": [
    "# Built-in Modules\n",
    "# There are several built-in modules in Python, which you can import whenever you like.\n",
    "\n",
    "# Example\n",
    "# Import and use the platform module:\n",
    "\n",
    "import platform\n",
    "\n",
    "x = platform.system()\n",
    "print(x)"
   ]
  },
  {
   "cell_type": "code",
   "execution_count": 22,
   "id": "61785e04",
   "metadata": {},
   "outputs": [
    {
     "name": "stdout",
     "output_type": "stream",
     "text": [
      "['_Processor', '_WIN32_CLIENT_RELEASES', '_WIN32_SERVER_RELEASES', '__builtins__', '__cached__', '__copyright__', '__doc__', '__file__', '__loader__', '__name__', '__package__', '__spec__', '__version__', '_comparable_version', '_component_re', '_default_architecture', '_follow_symlinks', '_get_machine_win32', '_ironpython26_sys_version_parser', '_ironpython_sys_version_parser', '_java_getprop', '_libc_search', '_mac_ver_xml', '_node', '_norm_version', '_os_release_cache', '_os_release_candidates', '_os_release_line', '_os_release_unescape', '_parse_os_release', '_platform', '_platform_cache', '_pypy_sys_version_parser', '_sys_version', '_sys_version_cache', '_sys_version_parser', '_syscmd_file', '_syscmd_ver', '_uname_cache', '_unknown_as_blank', '_ver_output', '_ver_stages', 'architecture', 'collections', 'freedesktop_os_release', 'functools', 'itertools', 'java_ver', 'libc_ver', 'mac_ver', 'machine', 'node', 'os', 'platform', 'processor', 'python_branch', 'python_build', 'python_compiler', 'python_implementation', 'python_revision', 'python_version', 'python_version_tuple', 're', 'release', 'subprocess', 'sys', 'system', 'system_alias', 'uname', 'uname_result', 'version', 'win32_edition', 'win32_is_iot', 'win32_ver']\n"
     ]
    }
   ],
   "source": [
    "# Using the dir() Function\n",
    "# There is a built-in function to list all the function names (or variable names) in a module. The dir() function:\n",
    "\n",
    "# Example\n",
    "# List all the defined names belonging to the platform module:\n",
    "\n",
    "import platform\n",
    "\n",
    "x = dir(platform)\n",
    "print(x)"
   ]
  },
  {
   "cell_type": "code",
   "execution_count": 23,
   "id": "234e2c33",
   "metadata": {},
   "outputs": [
    {
     "name": "stdout",
     "output_type": "stream",
     "text": [
      "['__builtins__', '__cached__', '__doc__', '__file__', '__loader__', '__name__', '__package__', '__spec__', 'greeting', 'person1']\n"
     ]
    }
   ],
   "source": [
    "# Example\n",
    "# List all the defined names belonging to the user-defined module\n",
    "\n",
    "import mymodule\n",
    "\n",
    "x = dir(mymodule)\n",
    "print(x)\n",
    "# print(mymodule.__file__)\n",
    "# print(mymodule.__builtins__)\n",
    "# print(mymodule.__name__)\n",
    "# print(mymodule.__package__)"
   ]
  },
  {
   "cell_type": "code",
   "execution_count": 24,
   "id": "f33b80bf",
   "metadata": {},
   "outputs": [
    {
     "name": "stdout",
     "output_type": "stream",
     "text": [
      "36\n"
     ]
    }
   ],
   "source": [
    "# Import From Module\n",
    "# You can choose to import only parts from a module, by using the from keyword.\n",
    "\n",
    "# Example\n",
    "# Import only the person1 dictionary from the module:\n",
    "\n",
    "from mymodule import person1\n",
    "\n",
    "print (person1[\"age\"])"
   ]
  },
  {
   "cell_type": "markdown",
   "id": "e6e314a7",
   "metadata": {},
   "source": [
    "## Python Datetime Module\n",
    "\n",
    "A date in Python is not a data type of its own, but we can import a module named datetime to work with dates as date objects.\n",
    "\n",
    "The date contains year, month, day, hour, minute, second, and microsecond.\n",
    "\n",
    "The datetime module has many methods to return information about the date object"
   ]
  },
  {
   "cell_type": "code",
   "execution_count": 25,
   "id": "c2208f1c",
   "metadata": {},
   "outputs": [
    {
     "name": "stdout",
     "output_type": "stream",
     "text": [
      "2022-09-12 23:36:19.526139\n"
     ]
    }
   ],
   "source": [
    "# Example\n",
    "# Import the datetime module and display the current date:\n",
    "\n",
    "import datetime\n",
    "\n",
    "x = datetime.datetime.now()\n",
    "print(x)"
   ]
  },
  {
   "cell_type": "code",
   "execution_count": 26,
   "id": "56a9f982",
   "metadata": {},
   "outputs": [
    {
     "name": "stdout",
     "output_type": "stream",
     "text": [
      "2022\n",
      "Monday\n"
     ]
    }
   ],
   "source": [
    "# Example\n",
    "# Return the year and name of weekday:\n",
    "\n",
    "import datetime\n",
    "\n",
    "x = datetime.datetime.now()\n",
    "\n",
    "print(x.year)\n",
    "print(x.strftime(\"%A\"))"
   ]
  },
  {
   "cell_type": "code",
   "execution_count": 2,
   "id": "d8b32b84",
   "metadata": {},
   "outputs": [
    {
     "ename": "TypeError",
     "evalue": "tzinfo argument must be None or of a tzinfo subclass, not type 'int'",
     "output_type": "error",
     "traceback": [
      "\u001b[1;31m---------------------------------------------------------------------------\u001b[0m",
      "\u001b[1;31mTypeError\u001b[0m                                 Traceback (most recent call last)",
      "Input \u001b[1;32mIn [2]\u001b[0m, in \u001b[0;36m<cell line: 11>\u001b[1;34m()\u001b[0m\n\u001b[0;32m      1\u001b[0m \u001b[38;5;66;03m# Creating Date Objects\u001b[39;00m\n\u001b[0;32m      2\u001b[0m \u001b[38;5;66;03m# To create a date, we can use the datetime() class (constructor) of the datetime module.\u001b[39;00m\n\u001b[0;32m      3\u001b[0m \n\u001b[1;32m   (...)\u001b[0m\n\u001b[0;32m      6\u001b[0m \u001b[38;5;66;03m# Example\u001b[39;00m\n\u001b[0;32m      7\u001b[0m \u001b[38;5;66;03m# Create a date object:\u001b[39;00m\n\u001b[0;32m      9\u001b[0m \u001b[38;5;28;01mimport\u001b[39;00m \u001b[38;5;21;01mdatetime\u001b[39;00m\n\u001b[1;32m---> 11\u001b[0m x \u001b[38;5;241m=\u001b[39m \u001b[43mdatetime\u001b[49m\u001b[38;5;241;43m.\u001b[39;49m\u001b[43mdatetime\u001b[49m\u001b[43m(\u001b[49m\u001b[38;5;241;43m2022\u001b[39;49m\u001b[43m,\u001b[49m\u001b[43m \u001b[49m\u001b[38;5;241;43m9\u001b[39;49m\u001b[43m,\u001b[49m\u001b[43m \u001b[49m\u001b[38;5;241;43m13\u001b[39;49m\u001b[43m,\u001b[49m\u001b[43m \u001b[49m\u001b[38;5;241;43m15\u001b[39;49m\u001b[43m,\u001b[49m\u001b[43m \u001b[49m\u001b[38;5;241;43m53\u001b[39;49m\u001b[43m,\u001b[49m\u001b[43m \u001b[49m\u001b[38;5;241;43m5\u001b[39;49m\u001b[43m,\u001b[49m\u001b[43m \u001b[49m\u001b[38;5;241;43m24\u001b[39;49m\u001b[43m,\u001b[49m\u001b[43m \u001b[49m\u001b[38;5;241;43m522\u001b[39;49m\u001b[43m)\u001b[49m\n\u001b[0;32m     13\u001b[0m \u001b[38;5;28mprint\u001b[39m(x)\n",
      "\u001b[1;31mTypeError\u001b[0m: tzinfo argument must be None or of a tzinfo subclass, not type 'int'"
     ]
    }
   ],
   "source": [
    "# Creating Date Objects\n",
    "# To create a date, we can use the datetime() class (constructor) of the datetime module.\n",
    "\n",
    "# The datetime() class requires three parameters to create a date: year, month, day.\n",
    "\n",
    "# Example\n",
    "# Create a date object:\n",
    "\n",
    "import datetime\n",
    "\n",
    "x = datetime.datetime(2022, 9, 13, 15, 53, 5, 24)\n",
    "\n",
    "print(x)\n",
    "\n",
    "# The datetime() class also takes parameters for time and timezone (hour, minute, second, microsecond, tzone),\n",
    "# but they are optional, and has a default value of 0, (None for timezone)."
   ]
  },
  {
   "cell_type": "code",
   "execution_count": 31,
   "id": "4d550576",
   "metadata": {},
   "outputs": [
    {
     "name": "stdout",
     "output_type": "stream",
     "text": [
      "September\n"
     ]
    }
   ],
   "source": [
    "# The strftime() Method\n",
    "# The datetime object has a method for formatting date objects into readable strings.\n",
    "\n",
    "# The method is called strftime(), and takes one parameter,\n",
    "# format, to specify the format of the returned string\n",
    "\n",
    "# Example\n",
    "# Display the name of the month:\n",
    "\n",
    "import datetime\n",
    "\n",
    "x = datetime.datetime(2022, 9, 13)\n",
    "\n",
    "print(x.strftime(\"%B\"))"
   ]
  },
  {
   "cell_type": "code",
   "execution_count": null,
   "id": "506e0dec",
   "metadata": {},
   "outputs": [],
   "source": [
    "# A reference of all the legal format codes:\n",
    "\n",
    "# %a\tWeekday, short version\tWed\t\n",
    "# %A\tWeekday, full version\tWednesday\t\n",
    "# %w\tWeekday as a number 0-6, 0 is Sunday\t3\t\n",
    "# %d\tDay of month 01-31\t31\t\n",
    "# %b\tMonth name, short version\tDec\t\n",
    "# %B\tMonth name, full version\tDecember\t\n",
    "# %m\tMonth as a number 01-12\t12\t\n",
    "# %y\tYear, short version, without century\t18\t\n",
    "# %Y\tYear, full version\t2018\t\n",
    "# %H\tHour 00-23\t17\t\n",
    "# %I\tHour 00-12\t05\t\n",
    "# %p\tAM/PM\tPM\t\n",
    "# %M\tMinute 00-59\t41\t\n",
    "# %S\tSecond 00-59\t08\t\n",
    "# %f\tMicrosecond 000000-999999\t548513\t\n",
    "# %z\tUTC offset\t+0100\t\n",
    "# %Z\tTimezone\tCST\t\n",
    "# %j\tDay number of year 001-366\t365\t\n",
    "# %U\tWeek number of year, Sunday as the first day of week, 00-53\t52\t\n",
    "# %W\tWeek number of year, Monday as the first day of week, 00-53\t52\t\n",
    "# %c\tLocal version of date and time\tMon Dec 31 17:41:00 2018\t\n",
    "# %C\tCentury\t20\t\n",
    "# %x\tLocal version of date\t12/31/18\t\n",
    "# %X\tLocal version of time\t17:41:00\t\n",
    "# %%\tA % character\t%\t\n",
    "# %G\tISO 8601 year\t2018\t\n",
    "# %u\tISO 8601 weekday (1-7)\t1\t\n",
    "# %V\tISO 8601 weeknumber (01-53)\t01"
   ]
  },
  {
   "cell_type": "markdown",
   "id": "1614b188",
   "metadata": {},
   "source": [
    "## Python Math Module\n",
    "\n",
    "Python has a set of built-in math functions, including an extensive math module, that allows you to perform mathematical tasks on numbers.\n",
    "\n",
    "#### Built-in Math Functions\n",
    "\n",
    "* The min() and max() functions can be used to find the lowest or highest value in an iterable\n",
    "* The abs() function returns the absolute (positive) value of the specified number\n",
    "* The pow(x, y) function returns the value of x to the power of y (x^y)\n"
   ]
  },
  {
   "cell_type": "code",
   "execution_count": 35,
   "id": "8406f47d",
   "metadata": {},
   "outputs": [
    {
     "name": "stdout",
     "output_type": "stream",
     "text": [
      "5\n",
      "25\n",
      "7.25\n",
      "64\n"
     ]
    }
   ],
   "source": [
    "# The min() and max() functions can be used to find the lowest or highest value in an iterable:\n",
    "\n",
    "# Example\n",
    "x = min(5, 10, 25)\n",
    "y = max(5, 10, 25)\n",
    "\n",
    "print(x)\n",
    "print(y)\n",
    "\n",
    "# The abs() function returns the absolute (positive) value of the specified number:\n",
    "\n",
    "# Example\n",
    "x = abs(-7.25)\n",
    "\n",
    "print(x)\n",
    "\n",
    "# The pow(x, y) function returns the value of x to the power of y (xy).\n",
    "\n",
    "# Example\n",
    "# Return the value of 4 to the power of 3 (same as 4 * 4 * 4):\n",
    "\n",
    "x = pow(4, 3)\n",
    "\n",
    "print(x)"
   ]
  },
  {
   "cell_type": "markdown",
   "id": "53859d72",
   "metadata": {},
   "source": [
    "#### The Math Module\n",
    "\n",
    "Python has also a built-in module called math, which extends the list of mathematical functions.\n",
    "\n",
    "To use it, you must import the math module"
   ]
  },
  {
   "cell_type": "code",
   "execution_count": 37,
   "id": "d9cae8fd",
   "metadata": {},
   "outputs": [
    {
     "name": "stdout",
     "output_type": "stream",
     "text": [
      "8.0\n"
     ]
    }
   ],
   "source": [
    "# Example\n",
    "import math\n",
    "\n",
    "x = math.sqrt(64)\n",
    "\n",
    "print(x)"
   ]
  },
  {
   "cell_type": "code",
   "execution_count": 38,
   "id": "05eabbcb",
   "metadata": {},
   "outputs": [
    {
     "name": "stdout",
     "output_type": "stream",
     "text": [
      "2\n",
      "1\n"
     ]
    }
   ],
   "source": [
    "# The math.ceil() method rounds a number upwards to its nearest integer,\n",
    "# and the math.floor() method rounds a number downwards to its nearest integer, and returns the result:\n",
    "\n",
    "# Example\n",
    "import math\n",
    "\n",
    "x = math.ceil(1.4)\n",
    "y = math.floor(1.4)\n",
    "\n",
    "print(x) # returns 2\n",
    "print(y) # returns 1"
   ]
  },
  {
   "cell_type": "code",
   "execution_count": 40,
   "id": "b08a95c3",
   "metadata": {},
   "outputs": [
    {
     "name": "stdout",
     "output_type": "stream",
     "text": [
      "3.141592653589793\n"
     ]
    }
   ],
   "source": [
    "# The math.pi constant, returns the value of PI (3.14...):\n",
    "\n",
    "# Example\n",
    "import math\n",
    "\n",
    "x = math.pi\n",
    "\n",
    "print(x)"
   ]
  },
  {
   "cell_type": "code",
   "execution_count": null,
   "id": "77f9d38d",
   "metadata": {},
   "outputs": [],
   "source": [
    "# ## Math Methods\n",
    "\n",
    "# math.acos()\tReturns the arc cosine of a number\n",
    "# math.acosh()\tReturns the inverse hyperbolic cosine of a number\n",
    "# math.asin()\tReturns the arc sine of a number\n",
    "# math.asinh()\tReturns the inverse hyperbolic sine of a number\n",
    "# math.atan()\tReturns the arc tangent of a number in radians\n",
    "# math.atan2()\tReturns the arc tangent of y/x in radians\n",
    "# math.atanh()\tReturns the inverse hyperbolic tangent of a number\n",
    "# math.ceil()\tRounds a number up to the nearest integer\n",
    "# math.comb()\tReturns the number of ways to choose k items from n items without repetition and order\n",
    "# math.copysign()\tReturns a float consisting of the value of the first parameter and the sign of the second parameter\n",
    "# math.cos()\tReturns the cosine of a number\n",
    "# math.cosh()\tReturns the hyperbolic cosine of a number\n",
    "# math.degrees()\tConverts an angle from radians to degrees\n",
    "# math.dist()\tReturns the Euclidean distance between two points (p and q), where p and q are the coordinates of that point\n",
    "# math.erf()\tReturns the error function of a number\n",
    "# math.erfc()\tReturns the complementary error function of a number\n",
    "# math.exp()\tReturns E raised to the power of x\n",
    "# math.expm1()\tReturns Ex - 1\n",
    "# math.fabs()\tReturns the absolute value of a number\n",
    "# math.factorial()\tReturns the factorial of a number\n",
    "# math.floor()\tRounds a number down to the nearest integer\n",
    "# math.fmod()\tReturns the remainder of x/y\n",
    "# math.frexp()\tReturns the mantissa and the exponent, of a specified number\n",
    "# math.fsum()\tReturns the sum of all items in any iterable (tuples, arrays, lists, etc.)\n",
    "# math.gamma()\tReturns the gamma function at x\n",
    "# math.gcd()\tReturns the greatest common divisor of two integers\n",
    "# math.hypot()\tReturns the Euclidean norm\n",
    "# math.isclose()\tChecks whether two values are close to each other, or not\n",
    "# math.isfinite()\tChecks whether a number is finite or not\n",
    "# math.isinf()\tChecks whether a number is infinite or not\n",
    "# math.isnan()\tChecks whether a value is NaN (not a number) or not\n",
    "# math.isqrt()\tRounds a square root number downwards to the nearest integer\n",
    "# math.ldexp()\tReturns the inverse of math.frexp() which is x * (2**i) of the given numbers x and i\n",
    "# math.lgamma()\tReturns the log gamma value of x\n",
    "# math.log()\tReturns the natural logarithm of a number, or the logarithm of number to base\n",
    "# math.log10()\tReturns the base-10 logarithm of x\n",
    "# math.log1p()\tReturns the natural logarithm of 1+x\n",
    "# math.log2()\tReturns the base-2 logarithm of x\n",
    "# math.perm()\tReturns the number of ways to choose k items from n items with order and without repetition\n",
    "# math.pow()\tReturns the value of x to the power of y\n",
    "# math.prod()\tReturns the product of all the elements in an iterable\n",
    "# math.radians()\tConverts a degree value into radians\n",
    "# math.remainder()\tReturns the closest value that can make numerator completely divisible by the denominator\n",
    "# math.sin()\tReturns the sine of a number\n",
    "# math.sinh()\tReturns the hyperbolic sine of a number\n",
    "# math.sqrt()\tReturns the square root of a number\n",
    "# math.tan()\tReturns the tangent of a number\n",
    "# math.tanh()\tReturns the hyperbolic tangent of a number\n",
    "# math.trunc()\tReturns the truncated integer parts of a number\n",
    "\n",
    "\n",
    "#### Math Constants\n",
    "\n",
    "# math.e\tReturns Euler's number (2.7182...)\n",
    "# math.inf\tReturns a floating-point positive infinity\n",
    "# math.nan\tReturns a floating-point NaN (Not a Number) value\n",
    "# math.pi\tReturns PI (3.1415...)\n",
    "# math.tau\tReturns tau (6.2831...)"
   ]
  },
  {
   "cell_type": "markdown",
   "id": "9a2c9b83",
   "metadata": {},
   "source": [
    "## Python PIP\n",
    "\n",
    "PIP is a package manager for Python packages, or modules if you like.\n",
    "\n",
    "Note: If you have Python version 3.4 or later, PIP is included by default\n",
    "\n",
    "#### What is a Package?\n",
    "A package contains all the files you need for a module.\n",
    "\n",
    "Modules are Python code libraries you can include in your project.\n",
    "\n",
    "#### Check if PIP is Installed\n",
    "\n",
    "Open command prompt, and type the following\n",
    "\n",
    "pip --version\n",
    "\n",
    "#### Download a Package\n",
    "\n",
    "Downloading a package is very easy.\n",
    "\n",
    "To Download a package named X, open the command prompt and type the following - \n",
    "\n",
    " - pip install X\n",
    " \n",
    "#### Using a Package\n",
    "\n",
    "Once the package is installed, it is ready to use.\n",
    "\n",
    "Import the X package into your project\n"
   ]
  },
  {
   "cell_type": "code",
   "execution_count": 42,
   "id": "310eb917",
   "metadata": {},
   "outputs": [
    {
     "name": "stdout",
     "output_type": "stream",
     "text": [
      "Hello World\n"
     ]
    }
   ],
   "source": [
    "# Example\n",
    "# Import and use \"camelcase\":\n",
    "\n",
    "# To install the camelcase package: pip install camelcase\n",
    "\n",
    "import camelcase\n",
    "\n",
    "c = camelcase.CamelCase()\n",
    "\n",
    "txt = \"hello world\"\n",
    "\n",
    "print(c.hump(txt))"
   ]
  },
  {
   "cell_type": "markdown",
   "id": "0f6a86dd",
   "metadata": {},
   "source": [
    "#### Find Packages\n",
    "\n",
    "Find more packages at https://pypi.org/.\n",
    "\n",
    "#### Remove a Package\n",
    "Use the uninstall command to remove a package:\n",
    "\n",
    "To uninstall the package named X, open command prompt and type the following\n",
    " - pip uninstall X  \n",
    " \n",
    "Example: pip uninstall camelcase\n",
    "\n",
    "Press y and the package will be removed\n",
    "\n",
    "#### List Packages\n",
    "\n",
    "Use the list command to list all the packages installed on your system:\n",
    "\n",
    "Open command prompt, and type the following:\n",
    " - pip list"
   ]
  }
 ],
 "metadata": {
  "kernelspec": {
   "display_name": "Python 3 (ipykernel)",
   "language": "python",
   "name": "python3"
  },
  "language_info": {
   "codemirror_mode": {
    "name": "ipython",
    "version": 3
   },
   "file_extension": ".py",
   "mimetype": "text/x-python",
   "name": "python",
   "nbconvert_exporter": "python",
   "pygments_lexer": "ipython3",
   "version": "3.10.4"
  }
 },
 "nbformat": 4,
 "nbformat_minor": 5
}
